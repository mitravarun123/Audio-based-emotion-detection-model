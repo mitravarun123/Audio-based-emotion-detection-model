{
 "cells": [
  {
   "cell_type": "code",
   "execution_count": 404,
   "id": "5b40708d-fd93-4a1a-a7a4-c06ca439466b",
   "metadata": {},
   "outputs": [
    {
     "name": "stdout",
     "output_type": "stream",
     "text": [
      "Number of files in folder Angry are  2167\n",
      "Number of files in folder Disgusted are  1863\n",
      "Number of files in folder Fearful are  2047\n",
      "Number of files in folder Happy are  2167\n",
      "Number of files in folder Neutral are  1795\n",
      "Number of files in folder Sad are  2167\n",
      "Number of files in folder Suprised are  592\n"
     ]
    }
   ],
   "source": [
    "import os\n",
    "import pandas as pd  \n",
    "import random\n",
    "import matplotlib.pyplot as plt \n",
    "import seaborn as sns \n",
    "import librosa\n",
    "import tensorflow as tf \n",
    "from keras.layers import Dense,Conv1D,LSTM,Bidirectional,MaxPooling1D,Dropout,Bidirectional,Flatten,BatchNormalization\n",
    "from keras.utils import to_categorical\n",
    "from keras.models import Sequential \n",
    "from keras.optimizers import Adam\n",
    "from keras.metrics import AUC\n",
    "from sklearn.preprocessing import LabelBinarizer,LabelEncoder\n",
    "from sklearn.preprocessing import StandardScaler\n",
    "import numpy as np\n",
    "import warnings\n",
    "warnings.filterwarnings('ignore')\n",
    "data_path = \"D:/Emotions/Emotions\"\n",
    "filenames = os.listdir(data_path)\n",
    "for name in filenames:\n",
    "    print(f\"Number of files in folder {name} are \",len(os.listdir((os.path.join(data_path,name)))))"
   ]
  },
  {
   "cell_type": "code",
   "execution_count": 276,
   "id": "58d12036-4e2c-467c-a98e-57b24f134c18",
   "metadata": {},
   "outputs": [],
   "source": [
    "def training_and_testing_data(data_path, folder_name, split_ratio):\n",
    "    files = os.listdir(os.path.join(data_path, folder_name))\n",
    "    total_files = len(files)\n",
    "    value = int(split_ratio * total_files)\n",
    "\n",
    "    train_files = files[:value]\n",
    "    test_files = files[value:]\n",
    "\n",
    "    train_data = pd.DataFrame({\n",
    "        'Filepath': [os.path.join(data_path, folder_name, f) for f in train_files],\n",
    "        'Emotion': [folder_name] * len(train_files)\n",
    "    })\n",
    "\n",
    "    test_data = pd.DataFrame({\n",
    "        'Filepath': [os.path.join(data_path, folder_name, f) for f in test_files],\n",
    "        'Emotion': [folder_name] * len(test_files)\n",
    "    })\n",
    "\n",
    "    return train_data, test_data\n",
    "\n",
    "\n",
    "train_data = pd.DataFrame(columns=['Filepath', 'Emotion'])\n",
    "test_data = pd.DataFrame(columns=['Filepath', 'Emotion'])\n",
    "\n",
    "\n",
    "folder_names = os.listdir(data_path)\n",
    "for folder_name in folder_names:\n",
    "    curr_train, curr_test = training_and_testing_data(data_path, folder_name, 0.8)\n",
    "    train_data = pd.concat([train_data, curr_train], ignore_index=True)\n",
    "    test_data = pd.concat([test_data, curr_test], ignore_index=True)\n",
    "\n",
    "train_data = train_data.sample(frac=1).reset_index(drop=True)\n",
    "test_data = test_data.sample(frac=1).reset_index(drop=True)"
   ]
  },
  {
   "cell_type": "code",
   "execution_count": 277,
   "id": "d57d704d-c763-4f4e-96b0-242b77d20df1",
   "metadata": {},
   "outputs": [],
   "source": [
    "# def plot_audio_features(file_path):\n",
    "#     y, sr = librosa.load(file_path)\n",
    "\n",
    "#     plt.figure(figsize=(14, 12))\n",
    "\n",
    "#     # 1. Waveform\n",
    "#     plt.subplot(3, 2, 1)\n",
    "#     librosa.display.waveshow(y, sr=sr)\n",
    "#     plt.title('Waveform')\n",
    "\n",
    "#     # 2. Spectrogram (log power)\n",
    "#     plt.subplot(3, 2, 2)\n",
    "#     D = librosa.amplitude_to_db(np.abs(librosa.stft(y)), ref=np.max)\n",
    "#     librosa.display.specshow(D, sr=sr, x_axis='time', y_axis='log')\n",
    "#     plt.colorbar(format=\"%+2.0f dB\")\n",
    "#     plt.title('Spectrogram')\n",
    "\n",
    "#     # 3. MFCCs\n",
    "#     plt.subplot(3, 2, 3)\n",
    "#     mfccs = librosa.feature.mfcc(y=y, sr=sr, n_mfcc=13)\n",
    "#     librosa.display.specshow(mfccs, sr=sr, x_axis='time')\n",
    "#     plt.colorbar()\n",
    "#     plt.title('MFCCs')\n",
    "\n",
    "#     # 4. Chroma\n",
    "#     plt.subplot(3, 2, 4)\n",
    "#     chroma = librosa.feature.chroma_stft(y=y, sr=sr)\n",
    "#     librosa.display.specshow(chroma, y_axis='chroma', x_axis='time', sr=sr)\n",
    "#     plt.colorbar()\n",
    "#     plt.title('Chroma Feature')\n",
    "\n",
    "#     # 5. Spectral Centroid\n",
    "#     plt.subplot(3, 2, 5)\n",
    "#     spec_centroid = librosa.feature.spectral_centroid(y=y, sr=sr)[0]\n",
    "#     frames = range(len(spec_centroid))\n",
    "#     t = librosa.frames_to_time(frames)\n",
    "#     librosa.display.waveshow(y, sr=sr, alpha=0.4)\n",
    "#     plt.plot(t, spec_centroid, color='r')\n",
    "#     plt.title('Spectral Centroid')\n",
    "\n",
    "#     # 6. Pitch (F0)\n",
    "#     plt.subplot(3, 2, 6)\n",
    "#     f0, voiced_flag, voiced_probs = librosa.pyin(y, fmin=librosa.note_to_hz('C2'),\n",
    "#                                                  fmax=librosa.note_to_hz('C7'))\n",
    "#     times = librosa.times_like(f0)\n",
    "#     plt.plot(times, f0, label='f0', color='g')\n",
    "#     plt.title('Estimated Pitch (F0)')\n",
    "#     plt.xlabel(\"Time (s)\")\n",
    "#     plt.ylabel(\"Frequency (Hz)\")\n",
    "\n",
    "#     plt.tight_layout()\n",
    "#     plt.show()\n",
    "#     return \n",
    "# plot_audio_features(train_data['Filepath'][0])"
   ]
  },
  {
   "cell_type": "code",
   "execution_count": 389,
   "id": "1c74f9be-9127-4bef-82d2-b6ae4c7ba744",
   "metadata": {},
   "outputs": [],
   "source": [
    "import librosa\n",
    "import numpy as np\n",
    "from sklearn.preprocessing import StandardScaler\n",
    "\n",
    "def extract_features(file_path, n_mfcc=40, target_length=120, noise_factor=0.005):\n",
    "    y, sr = librosa.load(file_path, sr=16000)\n",
    "    noise = np.random.randn(len(y))\n",
    "    y_noisy = y + noise_factor * noise\n",
    "    mfcc = librosa.feature.mfcc(y=y_noisy, sr=sr, n_mfcc=n_mfcc)\n",
    "    scaler = StandardScaler()\n",
    "    mfcc = scaler.fit_transform(mfcc.T).T   \n",
    "    if mfcc.shape[1] < target_length:\n",
    "        padding = np.zeros((n_mfcc, target_length - mfcc.shape[1]))\n",
    "        mfcc = np.hstack((mfcc, padding))\n",
    "    elif mfcc.shape[1] > target_length:\n",
    "        mfcc = mfcc[:, :target_length]\n",
    "    return mfcc\n"
   ]
  },
  {
   "cell_type": "code",
   "execution_count": 390,
   "id": "69e9559b-34b2-40fd-8803-d731d6f9258e",
   "metadata": {
    "scrolled": true
   },
   "outputs": [
    {
     "data": {
      "text/plain": [
       "(40, 120)"
      ]
     },
     "execution_count": 390,
     "metadata": {},
     "output_type": "execute_result"
    }
   ],
   "source": [
    "features = extract_features(train_data['Filepath'][2])\n",
    "features.shape"
   ]
  },
  {
   "cell_type": "code",
   "execution_count": 391,
   "id": "7d273305-c70b-444e-8f75-5edce8c00cec",
   "metadata": {},
   "outputs": [
    {
     "data": {
      "text/html": [
       "<div>\n",
       "<style scoped>\n",
       "    .dataframe tbody tr th:only-of-type {\n",
       "        vertical-align: middle;\n",
       "    }\n",
       "\n",
       "    .dataframe tbody tr th {\n",
       "        vertical-align: top;\n",
       "    }\n",
       "\n",
       "    .dataframe thead th {\n",
       "        text-align: right;\n",
       "    }\n",
       "</style>\n",
       "<table border=\"1\" class=\"dataframe\">\n",
       "  <thead>\n",
       "    <tr style=\"text-align: right;\">\n",
       "      <th></th>\n",
       "      <th>Filepath</th>\n",
       "      <th>Emotion</th>\n",
       "    </tr>\n",
       "  </thead>\n",
       "  <tbody>\n",
       "    <tr>\n",
       "      <th>0</th>\n",
       "      <td>D:/Emotions/Emotions\\Angry\\1037_TSI_ANG_XX.wav</td>\n",
       "      <td>Angry</td>\n",
       "    </tr>\n",
       "    <tr>\n",
       "      <th>1</th>\n",
       "      <td>D:/Emotions/Emotions\\Neutral\\1079_IWW_NEU_XX.wav</td>\n",
       "      <td>Neutral</td>\n",
       "    </tr>\n",
       "    <tr>\n",
       "      <th>2</th>\n",
       "      <td>D:/Emotions/Emotions\\Disgusted\\1022_IWL_DIS_XX...</td>\n",
       "      <td>Disgusted</td>\n",
       "    </tr>\n",
       "    <tr>\n",
       "      <th>3</th>\n",
       "      <td>D:/Emotions/Emotions\\Disgusted\\1073_IWW_DIS_XX...</td>\n",
       "      <td>Disgusted</td>\n",
       "    </tr>\n",
       "    <tr>\n",
       "      <th>4</th>\n",
       "      <td>D:/Emotions/Emotions\\Happy\\1073_ITS_HAP_XX.wav</td>\n",
       "      <td>Happy</td>\n",
       "    </tr>\n",
       "    <tr>\n",
       "      <th>...</th>\n",
       "      <td>...</td>\n",
       "      <td>...</td>\n",
       "    </tr>\n",
       "    <tr>\n",
       "      <th>10230</th>\n",
       "      <td>D:/Emotions/Emotions\\Angry\\03-02-05-01-01-01-0...</td>\n",
       "      <td>Angry</td>\n",
       "    </tr>\n",
       "    <tr>\n",
       "      <th>10231</th>\n",
       "      <td>D:/Emotions/Emotions\\Neutral\\1019_DFA_NEU_XX.wav</td>\n",
       "      <td>Neutral</td>\n",
       "    </tr>\n",
       "    <tr>\n",
       "      <th>10232</th>\n",
       "      <td>D:/Emotions/Emotions\\Neutral\\1069_IEO_NEU_XX.wav</td>\n",
       "      <td>Neutral</td>\n",
       "    </tr>\n",
       "    <tr>\n",
       "      <th>10233</th>\n",
       "      <td>D:/Emotions/Emotions\\Sad\\1047_DFA_SAD_XX.wav</td>\n",
       "      <td>Sad</td>\n",
       "    </tr>\n",
       "    <tr>\n",
       "      <th>10234</th>\n",
       "      <td>D:/Emotions/Emotions\\Sad\\03-02-04-01-01-02-13.wav</td>\n",
       "      <td>Sad</td>\n",
       "    </tr>\n",
       "  </tbody>\n",
       "</table>\n",
       "<p>10235 rows × 2 columns</p>\n",
       "</div>"
      ],
      "text/plain": [
       "                                                Filepath    Emotion\n",
       "0         D:/Emotions/Emotions\\Angry\\1037_TSI_ANG_XX.wav      Angry\n",
       "1       D:/Emotions/Emotions\\Neutral\\1079_IWW_NEU_XX.wav    Neutral\n",
       "2      D:/Emotions/Emotions\\Disgusted\\1022_IWL_DIS_XX...  Disgusted\n",
       "3      D:/Emotions/Emotions\\Disgusted\\1073_IWW_DIS_XX...  Disgusted\n",
       "4         D:/Emotions/Emotions\\Happy\\1073_ITS_HAP_XX.wav      Happy\n",
       "...                                                  ...        ...\n",
       "10230  D:/Emotions/Emotions\\Angry\\03-02-05-01-01-01-0...      Angry\n",
       "10231   D:/Emotions/Emotions\\Neutral\\1019_DFA_NEU_XX.wav    Neutral\n",
       "10232   D:/Emotions/Emotions\\Neutral\\1069_IEO_NEU_XX.wav    Neutral\n",
       "10233       D:/Emotions/Emotions\\Sad\\1047_DFA_SAD_XX.wav        Sad\n",
       "10234  D:/Emotions/Emotions\\Sad\\03-02-04-01-01-02-13.wav        Sad\n",
       "\n",
       "[10235 rows x 2 columns]"
      ]
     },
     "execution_count": 391,
     "metadata": {},
     "output_type": "execute_result"
    }
   ],
   "source": [
    "train_data"
   ]
  },
  {
   "cell_type": "code",
   "execution_count": 392,
   "id": "391380cf-5e1c-4e4c-9812-5e39abe2b379",
   "metadata": {},
   "outputs": [],
   "source": [
    "training_data = []\n",
    "testing_data = []\n",
    "\n",
    "train_paths = train_data['Filepath'].values \n",
    "test_paths = test_data['Filepath'].values \n",
    "\n",
    "for path in train_paths:\n",
    "    emotion = path.split('\\\\')[1] \n",
    "    vector = extract_features(path)\n",
    "    training_data.append([vector, emotion])\n",
    "\n",
    "for path in test_paths:\n",
    "    emotion = path.split('\\\\')[1]  \n",
    "    vector = extract_features(path)\n",
    "    testing_data.append([vector, emotion])\n"
   ]
  },
  {
   "cell_type": "code",
   "execution_count": 398,
   "id": "b35d6289-36ba-40b0-91da-7ed0638191df",
   "metadata": {},
   "outputs": [],
   "source": [
    "import pickle\n",
    "with open(\"training_data.pkl\", \"wb\") as f:\n",
    "    pickle.dump(training_data, f)\n",
    "with open(\"testing_data.pkl\", \"wb\") as f:\n",
    "    pickle.dump(testing_data, f)"
   ]
  },
  {
   "cell_type": "code",
   "execution_count": 399,
   "id": "ac76cb5f-7dba-43d1-b648-9374b9742270",
   "metadata": {},
   "outputs": [],
   "source": [
    "with open(\"training_data.pkl\", \"rb\") as f:\n",
    "    training_data = pickle.load(f)\n",
    "\n",
    "with open(\"testing_data.pkl\", \"rb\") as f:\n",
    "    testing_data = pickle.load(f)"
   ]
  },
  {
   "cell_type": "code",
   "execution_count": 400,
   "id": "db622c8f-b241-4f67-bad6-c0bc9895b2e0",
   "metadata": {},
   "outputs": [
    {
     "name": "stdout",
     "output_type": "stream",
     "text": [
      "10235\n",
      "10235\n",
      "2563\n",
      "2563\n"
     ]
    }
   ],
   "source": [
    "train_values = []\n",
    "train_labels = [] \n",
    "test_values  = [] \n",
    "test_labels  = []\n",
    "\n",
    "for vector, emotion in training_data:\n",
    "    train_values.append(vector)\n",
    "    train_labels.append(emotion)\n",
    "\n",
    "for vector, emotion in testing_data:\n",
    "    test_values.append(vector)\n",
    "    test_labels.append(emotion)\n",
    "\n",
    "print(len(train_values))\n",
    "print(len(train_labels))\n",
    "print(len(test_values))\n",
    "print(len(test_labels))\n"
   ]
  },
  {
   "cell_type": "code",
   "execution_count": 401,
   "id": "db8f2212-18b0-426f-8bbf-15af2babc7f3",
   "metadata": {},
   "outputs": [
    {
     "name": "stdout",
     "output_type": "stream",
     "text": [
      "(10235, 40, 120)\n",
      "(10235, 7)\n",
      "(2563, 40, 120)\n",
      "(2563, 7)\n"
     ]
    }
   ],
   "source": [
    "train_values = np.array(train_values)\n",
    "test_values = np.array(test_values)\n",
    "train_labels = np.array(train_labels)\n",
    "test_labels = np.array(test_labels)\n",
    "print(train_values.shape)  # Should be (num_train_samples, 40, 180, 1)\n",
    "print(train_binary.shape)  # Should be (num_train_samples, 7) if using one-hot encoding\n",
    "print(test_values.shape)   # Should be (num_test_samples, 40, 180, 1)\n",
    "print(test_binary.shape)   # Should be (num_test_samples, 7) if using one-hot encoding\n"
   ]
  },
  {
   "cell_type": "code",
   "execution_count": 402,
   "id": "e16220a4-7856-437f-ae80-3c6c9a93a3ee",
   "metadata": {},
   "outputs": [],
   "source": [
    "train_values = train_values.reshape(-1,40,120,1)\n",
    "test_values  = test_values.reshape(-1,40,120,1)"
   ]
  },
  {
   "cell_type": "code",
   "execution_count": 429,
   "id": "6ecc1e80-2183-4de7-bc10-5a2b4f126a43",
   "metadata": {},
   "outputs": [
    {
     "name": "stdout",
     "output_type": "stream",
     "text": [
      "['Angry' 'Disgusted' 'Fearful' 'Happy' 'Neutral' 'Sad' 'Suprised']\n",
      "[[1 0 0 ... 0 0 0]\n",
      " [0 0 0 ... 1 0 0]\n",
      " [0 1 0 ... 0 0 0]\n",
      " ...\n",
      " [0 0 0 ... 1 0 0]\n",
      " [0 0 0 ... 0 1 0]\n",
      " [0 0 0 ... 0 1 0]]\n"
     ]
    }
   ],
   "source": [
    "lb = LabelBinarizer()\n",
    "train_binary = lb.fit_transform(train_labels)\n",
    "test_binary = lb.fit_transform(test_labels)\n",
    "print(lb.classes_)   \n",
    "print(train_binary)     "
   ]
  },
  {
   "cell_type": "code",
   "execution_count": 441,
   "id": "43308c0d-4979-4540-ad50-340e0bede911",
   "metadata": {},
   "outputs": [
    {
     "data": {
      "text/plain": [
       "(40, 120, 1)"
      ]
     },
     "execution_count": 441,
     "metadata": {},
     "output_type": "execute_result"
    }
   ],
   "source": [
    "train_values[0].shape"
   ]
  },
  {
   "cell_type": "code",
   "execution_count": 451,
   "id": "b1a9e637-739b-4b68-9380-eafb7b690d53",
   "metadata": {
    "scrolled": true
   },
   "outputs": [
    {
     "data": {
      "text/html": [
       "<pre style=\"white-space:pre;overflow-x:auto;line-height:normal;font-family:Menlo,'DejaVu Sans Mono',consolas,'Courier New',monospace\"><span style=\"font-weight: bold\">Model: \"sequential_42\"</span>\n",
       "</pre>\n"
      ],
      "text/plain": [
       "\u001b[1mModel: \"sequential_42\"\u001b[0m\n"
      ]
     },
     "metadata": {},
     "output_type": "display_data"
    },
    {
     "data": {
      "text/html": [
       "<pre style=\"white-space:pre;overflow-x:auto;line-height:normal;font-family:Menlo,'DejaVu Sans Mono',consolas,'Courier New',monospace\">┏━━━━━━━━━━━━━━━━━━━━━━━━━━━━━━━━━━━━━━┳━━━━━━━━━━━━━━━━━━━━━━━━━━━━━┳━━━━━━━━━━━━━━━━━┓\n",
       "┃<span style=\"font-weight: bold\"> Layer (type)                         </span>┃<span style=\"font-weight: bold\"> Output Shape                </span>┃<span style=\"font-weight: bold\">         Param # </span>┃\n",
       "┡━━━━━━━━━━━━━━━━━━━━━━━━━━━━━━━━━━━━━━╇━━━━━━━━━━━━━━━━━━━━━━━━━━━━━╇━━━━━━━━━━━━━━━━━┩\n",
       "│ conv2d_72 (<span style=\"color: #0087ff; text-decoration-color: #0087ff\">Conv2D</span>)                   │ (<span style=\"color: #00d7ff; text-decoration-color: #00d7ff\">None</span>, <span style=\"color: #00af00; text-decoration-color: #00af00\">40</span>, <span style=\"color: #00af00; text-decoration-color: #00af00\">120</span>, <span style=\"color: #00af00; text-decoration-color: #00af00\">8</span>)          │              <span style=\"color: #00af00; text-decoration-color: #00af00\">80</span> │\n",
       "├──────────────────────────────────────┼─────────────────────────────┼─────────────────┤\n",
       "│ max_pooling2d_70 (<span style=\"color: #0087ff; text-decoration-color: #0087ff\">MaxPooling2D</span>)      │ (<span style=\"color: #00d7ff; text-decoration-color: #00d7ff\">None</span>, <span style=\"color: #00af00; text-decoration-color: #00af00\">20</span>, <span style=\"color: #00af00; text-decoration-color: #00af00\">60</span>, <span style=\"color: #00af00; text-decoration-color: #00af00\">8</span>)           │               <span style=\"color: #00af00; text-decoration-color: #00af00\">0</span> │\n",
       "├──────────────────────────────────────┼─────────────────────────────┼─────────────────┤\n",
       "│ dropout_147 (<span style=\"color: #0087ff; text-decoration-color: #0087ff\">Dropout</span>)                │ (<span style=\"color: #00d7ff; text-decoration-color: #00d7ff\">None</span>, <span style=\"color: #00af00; text-decoration-color: #00af00\">20</span>, <span style=\"color: #00af00; text-decoration-color: #00af00\">60</span>, <span style=\"color: #00af00; text-decoration-color: #00af00\">8</span>)           │               <span style=\"color: #00af00; text-decoration-color: #00af00\">0</span> │\n",
       "├──────────────────────────────────────┼─────────────────────────────┼─────────────────┤\n",
       "│ conv2d_73 (<span style=\"color: #0087ff; text-decoration-color: #0087ff\">Conv2D</span>)                   │ (<span style=\"color: #00d7ff; text-decoration-color: #00d7ff\">None</span>, <span style=\"color: #00af00; text-decoration-color: #00af00\">20</span>, <span style=\"color: #00af00; text-decoration-color: #00af00\">60</span>, <span style=\"color: #00af00; text-decoration-color: #00af00\">16</span>)          │           <span style=\"color: #00af00; text-decoration-color: #00af00\">1,168</span> │\n",
       "├──────────────────────────────────────┼─────────────────────────────┼─────────────────┤\n",
       "│ max_pooling2d_71 (<span style=\"color: #0087ff; text-decoration-color: #0087ff\">MaxPooling2D</span>)      │ (<span style=\"color: #00d7ff; text-decoration-color: #00d7ff\">None</span>, <span style=\"color: #00af00; text-decoration-color: #00af00\">10</span>, <span style=\"color: #00af00; text-decoration-color: #00af00\">30</span>, <span style=\"color: #00af00; text-decoration-color: #00af00\">16</span>)          │               <span style=\"color: #00af00; text-decoration-color: #00af00\">0</span> │\n",
       "├──────────────────────────────────────┼─────────────────────────────┼─────────────────┤\n",
       "│ dropout_148 (<span style=\"color: #0087ff; text-decoration-color: #0087ff\">Dropout</span>)                │ (<span style=\"color: #00d7ff; text-decoration-color: #00d7ff\">None</span>, <span style=\"color: #00af00; text-decoration-color: #00af00\">10</span>, <span style=\"color: #00af00; text-decoration-color: #00af00\">30</span>, <span style=\"color: #00af00; text-decoration-color: #00af00\">16</span>)          │               <span style=\"color: #00af00; text-decoration-color: #00af00\">0</span> │\n",
       "├──────────────────────────────────────┼─────────────────────────────┼─────────────────┤\n",
       "│ conv2d_74 (<span style=\"color: #0087ff; text-decoration-color: #0087ff\">Conv2D</span>)                   │ (<span style=\"color: #00d7ff; text-decoration-color: #00d7ff\">None</span>, <span style=\"color: #00af00; text-decoration-color: #00af00\">10</span>, <span style=\"color: #00af00; text-decoration-color: #00af00\">30</span>, <span style=\"color: #00af00; text-decoration-color: #00af00\">32</span>)          │           <span style=\"color: #00af00; text-decoration-color: #00af00\">4,640</span> │\n",
       "├──────────────────────────────────────┼─────────────────────────────┼─────────────────┤\n",
       "│ max_pooling2d_72 (<span style=\"color: #0087ff; text-decoration-color: #0087ff\">MaxPooling2D</span>)      │ (<span style=\"color: #00d7ff; text-decoration-color: #00d7ff\">None</span>, <span style=\"color: #00af00; text-decoration-color: #00af00\">5</span>, <span style=\"color: #00af00; text-decoration-color: #00af00\">15</span>, <span style=\"color: #00af00; text-decoration-color: #00af00\">32</span>)           │               <span style=\"color: #00af00; text-decoration-color: #00af00\">0</span> │\n",
       "├──────────────────────────────────────┼─────────────────────────────┼─────────────────┤\n",
       "│ dropout_149 (<span style=\"color: #0087ff; text-decoration-color: #0087ff\">Dropout</span>)                │ (<span style=\"color: #00d7ff; text-decoration-color: #00d7ff\">None</span>, <span style=\"color: #00af00; text-decoration-color: #00af00\">5</span>, <span style=\"color: #00af00; text-decoration-color: #00af00\">15</span>, <span style=\"color: #00af00; text-decoration-color: #00af00\">32</span>)           │               <span style=\"color: #00af00; text-decoration-color: #00af00\">0</span> │\n",
       "├──────────────────────────────────────┼─────────────────────────────┼─────────────────┤\n",
       "│ conv2d_75 (<span style=\"color: #0087ff; text-decoration-color: #0087ff\">Conv2D</span>)                   │ (<span style=\"color: #00d7ff; text-decoration-color: #00d7ff\">None</span>, <span style=\"color: #00af00; text-decoration-color: #00af00\">5</span>, <span style=\"color: #00af00; text-decoration-color: #00af00\">15</span>, <span style=\"color: #00af00; text-decoration-color: #00af00\">64</span>)           │          <span style=\"color: #00af00; text-decoration-color: #00af00\">18,496</span> │\n",
       "├──────────────────────────────────────┼─────────────────────────────┼─────────────────┤\n",
       "│ max_pooling2d_73 (<span style=\"color: #0087ff; text-decoration-color: #0087ff\">MaxPooling2D</span>)      │ (<span style=\"color: #00d7ff; text-decoration-color: #00d7ff\">None</span>, <span style=\"color: #00af00; text-decoration-color: #00af00\">3</span>, <span style=\"color: #00af00; text-decoration-color: #00af00\">8</span>, <span style=\"color: #00af00; text-decoration-color: #00af00\">64</span>)            │               <span style=\"color: #00af00; text-decoration-color: #00af00\">0</span> │\n",
       "├──────────────────────────────────────┼─────────────────────────────┼─────────────────┤\n",
       "│ dropout_150 (<span style=\"color: #0087ff; text-decoration-color: #0087ff\">Dropout</span>)                │ (<span style=\"color: #00d7ff; text-decoration-color: #00d7ff\">None</span>, <span style=\"color: #00af00; text-decoration-color: #00af00\">3</span>, <span style=\"color: #00af00; text-decoration-color: #00af00\">8</span>, <span style=\"color: #00af00; text-decoration-color: #00af00\">64</span>)            │               <span style=\"color: #00af00; text-decoration-color: #00af00\">0</span> │\n",
       "├──────────────────────────────────────┼─────────────────────────────┼─────────────────┤\n",
       "│ conv2d_76 (<span style=\"color: #0087ff; text-decoration-color: #0087ff\">Conv2D</span>)                   │ (<span style=\"color: #00d7ff; text-decoration-color: #00d7ff\">None</span>, <span style=\"color: #00af00; text-decoration-color: #00af00\">3</span>, <span style=\"color: #00af00; text-decoration-color: #00af00\">8</span>, <span style=\"color: #00af00; text-decoration-color: #00af00\">128</span>)           │          <span style=\"color: #00af00; text-decoration-color: #00af00\">73,856</span> │\n",
       "├──────────────────────────────────────┼─────────────────────────────┼─────────────────┤\n",
       "│ max_pooling2d_74 (<span style=\"color: #0087ff; text-decoration-color: #0087ff\">MaxPooling2D</span>)      │ (<span style=\"color: #00d7ff; text-decoration-color: #00d7ff\">None</span>, <span style=\"color: #00af00; text-decoration-color: #00af00\">2</span>, <span style=\"color: #00af00; text-decoration-color: #00af00\">4</span>, <span style=\"color: #00af00; text-decoration-color: #00af00\">128</span>)           │               <span style=\"color: #00af00; text-decoration-color: #00af00\">0</span> │\n",
       "├──────────────────────────────────────┼─────────────────────────────┼─────────────────┤\n",
       "│ dropout_151 (<span style=\"color: #0087ff; text-decoration-color: #0087ff\">Dropout</span>)                │ (<span style=\"color: #00d7ff; text-decoration-color: #00d7ff\">None</span>, <span style=\"color: #00af00; text-decoration-color: #00af00\">2</span>, <span style=\"color: #00af00; text-decoration-color: #00af00\">4</span>, <span style=\"color: #00af00; text-decoration-color: #00af00\">128</span>)           │               <span style=\"color: #00af00; text-decoration-color: #00af00\">0</span> │\n",
       "├──────────────────────────────────────┼─────────────────────────────┼─────────────────┤\n",
       "│ conv2d_77 (<span style=\"color: #0087ff; text-decoration-color: #0087ff\">Conv2D</span>)                   │ (<span style=\"color: #00d7ff; text-decoration-color: #00d7ff\">None</span>, <span style=\"color: #00af00; text-decoration-color: #00af00\">2</span>, <span style=\"color: #00af00; text-decoration-color: #00af00\">4</span>, <span style=\"color: #00af00; text-decoration-color: #00af00\">256</span>)           │         <span style=\"color: #00af00; text-decoration-color: #00af00\">295,168</span> │\n",
       "├──────────────────────────────────────┼─────────────────────────────┼─────────────────┤\n",
       "│ max_pooling2d_75 (<span style=\"color: #0087ff; text-decoration-color: #0087ff\">MaxPooling2D</span>)      │ (<span style=\"color: #00d7ff; text-decoration-color: #00d7ff\">None</span>, <span style=\"color: #00af00; text-decoration-color: #00af00\">1</span>, <span style=\"color: #00af00; text-decoration-color: #00af00\">2</span>, <span style=\"color: #00af00; text-decoration-color: #00af00\">256</span>)           │               <span style=\"color: #00af00; text-decoration-color: #00af00\">0</span> │\n",
       "├──────────────────────────────────────┼─────────────────────────────┼─────────────────┤\n",
       "│ dropout_152 (<span style=\"color: #0087ff; text-decoration-color: #0087ff\">Dropout</span>)                │ (<span style=\"color: #00d7ff; text-decoration-color: #00d7ff\">None</span>, <span style=\"color: #00af00; text-decoration-color: #00af00\">1</span>, <span style=\"color: #00af00; text-decoration-color: #00af00\">2</span>, <span style=\"color: #00af00; text-decoration-color: #00af00\">256</span>)           │               <span style=\"color: #00af00; text-decoration-color: #00af00\">0</span> │\n",
       "├──────────────────────────────────────┼─────────────────────────────┼─────────────────┤\n",
       "│ conv2d_78 (<span style=\"color: #0087ff; text-decoration-color: #0087ff\">Conv2D</span>)                   │ (<span style=\"color: #00d7ff; text-decoration-color: #00d7ff\">None</span>, <span style=\"color: #00af00; text-decoration-color: #00af00\">1</span>, <span style=\"color: #00af00; text-decoration-color: #00af00\">2</span>, <span style=\"color: #00af00; text-decoration-color: #00af00\">512</span>)           │       <span style=\"color: #00af00; text-decoration-color: #00af00\">1,180,160</span> │\n",
       "├──────────────────────────────────────┼─────────────────────────────┼─────────────────┤\n",
       "│ max_pooling2d_76 (<span style=\"color: #0087ff; text-decoration-color: #0087ff\">MaxPooling2D</span>)      │ (<span style=\"color: #00d7ff; text-decoration-color: #00d7ff\">None</span>, <span style=\"color: #00af00; text-decoration-color: #00af00\">1</span>, <span style=\"color: #00af00; text-decoration-color: #00af00\">1</span>, <span style=\"color: #00af00; text-decoration-color: #00af00\">512</span>)           │               <span style=\"color: #00af00; text-decoration-color: #00af00\">0</span> │\n",
       "├──────────────────────────────────────┼─────────────────────────────┼─────────────────┤\n",
       "│ dropout_153 (<span style=\"color: #0087ff; text-decoration-color: #0087ff\">Dropout</span>)                │ (<span style=\"color: #00d7ff; text-decoration-color: #00d7ff\">None</span>, <span style=\"color: #00af00; text-decoration-color: #00af00\">1</span>, <span style=\"color: #00af00; text-decoration-color: #00af00\">1</span>, <span style=\"color: #00af00; text-decoration-color: #00af00\">512</span>)           │               <span style=\"color: #00af00; text-decoration-color: #00af00\">0</span> │\n",
       "├──────────────────────────────────────┼─────────────────────────────┼─────────────────┤\n",
       "│ flatten_34 (<span style=\"color: #0087ff; text-decoration-color: #0087ff\">Flatten</span>)                 │ (<span style=\"color: #00d7ff; text-decoration-color: #00d7ff\">None</span>, <span style=\"color: #00af00; text-decoration-color: #00af00\">512</span>)                 │               <span style=\"color: #00af00; text-decoration-color: #00af00\">0</span> │\n",
       "├──────────────────────────────────────┼─────────────────────────────┼─────────────────┤\n",
       "│ dense_127 (<span style=\"color: #0087ff; text-decoration-color: #0087ff\">Dense</span>)                    │ (<span style=\"color: #00d7ff; text-decoration-color: #00d7ff\">None</span>, <span style=\"color: #00af00; text-decoration-color: #00af00\">128</span>)                 │          <span style=\"color: #00af00; text-decoration-color: #00af00\">65,664</span> │\n",
       "├──────────────────────────────────────┼─────────────────────────────┼─────────────────┤\n",
       "│ batch_normalization_66               │ (<span style=\"color: #00d7ff; text-decoration-color: #00d7ff\">None</span>, <span style=\"color: #00af00; text-decoration-color: #00af00\">128</span>)                 │             <span style=\"color: #00af00; text-decoration-color: #00af00\">512</span> │\n",
       "│ (<span style=\"color: #0087ff; text-decoration-color: #0087ff\">BatchNormalization</span>)                 │                             │                 │\n",
       "├──────────────────────────────────────┼─────────────────────────────┼─────────────────┤\n",
       "│ dropout_154 (<span style=\"color: #0087ff; text-decoration-color: #0087ff\">Dropout</span>)                │ (<span style=\"color: #00d7ff; text-decoration-color: #00d7ff\">None</span>, <span style=\"color: #00af00; text-decoration-color: #00af00\">128</span>)                 │               <span style=\"color: #00af00; text-decoration-color: #00af00\">0</span> │\n",
       "├──────────────────────────────────────┼─────────────────────────────┼─────────────────┤\n",
       "│ dense_128 (<span style=\"color: #0087ff; text-decoration-color: #0087ff\">Dense</span>)                    │ (<span style=\"color: #00d7ff; text-decoration-color: #00d7ff\">None</span>, <span style=\"color: #00af00; text-decoration-color: #00af00\">7</span>)                   │             <span style=\"color: #00af00; text-decoration-color: #00af00\">903</span> │\n",
       "└──────────────────────────────────────┴─────────────────────────────┴─────────────────┘\n",
       "</pre>\n"
      ],
      "text/plain": [
       "┏━━━━━━━━━━━━━━━━━━━━━━━━━━━━━━━━━━━━━━┳━━━━━━━━━━━━━━━━━━━━━━━━━━━━━┳━━━━━━━━━━━━━━━━━┓\n",
       "┃\u001b[1m \u001b[0m\u001b[1mLayer (type)                        \u001b[0m\u001b[1m \u001b[0m┃\u001b[1m \u001b[0m\u001b[1mOutput Shape               \u001b[0m\u001b[1m \u001b[0m┃\u001b[1m \u001b[0m\u001b[1m        Param #\u001b[0m\u001b[1m \u001b[0m┃\n",
       "┡━━━━━━━━━━━━━━━━━━━━━━━━━━━━━━━━━━━━━━╇━━━━━━━━━━━━━━━━━━━━━━━━━━━━━╇━━━━━━━━━━━━━━━━━┩\n",
       "│ conv2d_72 (\u001b[38;5;33mConv2D\u001b[0m)                   │ (\u001b[38;5;45mNone\u001b[0m, \u001b[38;5;34m40\u001b[0m, \u001b[38;5;34m120\u001b[0m, \u001b[38;5;34m8\u001b[0m)          │              \u001b[38;5;34m80\u001b[0m │\n",
       "├──────────────────────────────────────┼─────────────────────────────┼─────────────────┤\n",
       "│ max_pooling2d_70 (\u001b[38;5;33mMaxPooling2D\u001b[0m)      │ (\u001b[38;5;45mNone\u001b[0m, \u001b[38;5;34m20\u001b[0m, \u001b[38;5;34m60\u001b[0m, \u001b[38;5;34m8\u001b[0m)           │               \u001b[38;5;34m0\u001b[0m │\n",
       "├──────────────────────────────────────┼─────────────────────────────┼─────────────────┤\n",
       "│ dropout_147 (\u001b[38;5;33mDropout\u001b[0m)                │ (\u001b[38;5;45mNone\u001b[0m, \u001b[38;5;34m20\u001b[0m, \u001b[38;5;34m60\u001b[0m, \u001b[38;5;34m8\u001b[0m)           │               \u001b[38;5;34m0\u001b[0m │\n",
       "├──────────────────────────────────────┼─────────────────────────────┼─────────────────┤\n",
       "│ conv2d_73 (\u001b[38;5;33mConv2D\u001b[0m)                   │ (\u001b[38;5;45mNone\u001b[0m, \u001b[38;5;34m20\u001b[0m, \u001b[38;5;34m60\u001b[0m, \u001b[38;5;34m16\u001b[0m)          │           \u001b[38;5;34m1,168\u001b[0m │\n",
       "├──────────────────────────────────────┼─────────────────────────────┼─────────────────┤\n",
       "│ max_pooling2d_71 (\u001b[38;5;33mMaxPooling2D\u001b[0m)      │ (\u001b[38;5;45mNone\u001b[0m, \u001b[38;5;34m10\u001b[0m, \u001b[38;5;34m30\u001b[0m, \u001b[38;5;34m16\u001b[0m)          │               \u001b[38;5;34m0\u001b[0m │\n",
       "├──────────────────────────────────────┼─────────────────────────────┼─────────────────┤\n",
       "│ dropout_148 (\u001b[38;5;33mDropout\u001b[0m)                │ (\u001b[38;5;45mNone\u001b[0m, \u001b[38;5;34m10\u001b[0m, \u001b[38;5;34m30\u001b[0m, \u001b[38;5;34m16\u001b[0m)          │               \u001b[38;5;34m0\u001b[0m │\n",
       "├──────────────────────────────────────┼─────────────────────────────┼─────────────────┤\n",
       "│ conv2d_74 (\u001b[38;5;33mConv2D\u001b[0m)                   │ (\u001b[38;5;45mNone\u001b[0m, \u001b[38;5;34m10\u001b[0m, \u001b[38;5;34m30\u001b[0m, \u001b[38;5;34m32\u001b[0m)          │           \u001b[38;5;34m4,640\u001b[0m │\n",
       "├──────────────────────────────────────┼─────────────────────────────┼─────────────────┤\n",
       "│ max_pooling2d_72 (\u001b[38;5;33mMaxPooling2D\u001b[0m)      │ (\u001b[38;5;45mNone\u001b[0m, \u001b[38;5;34m5\u001b[0m, \u001b[38;5;34m15\u001b[0m, \u001b[38;5;34m32\u001b[0m)           │               \u001b[38;5;34m0\u001b[0m │\n",
       "├──────────────────────────────────────┼─────────────────────────────┼─────────────────┤\n",
       "│ dropout_149 (\u001b[38;5;33mDropout\u001b[0m)                │ (\u001b[38;5;45mNone\u001b[0m, \u001b[38;5;34m5\u001b[0m, \u001b[38;5;34m15\u001b[0m, \u001b[38;5;34m32\u001b[0m)           │               \u001b[38;5;34m0\u001b[0m │\n",
       "├──────────────────────────────────────┼─────────────────────────────┼─────────────────┤\n",
       "│ conv2d_75 (\u001b[38;5;33mConv2D\u001b[0m)                   │ (\u001b[38;5;45mNone\u001b[0m, \u001b[38;5;34m5\u001b[0m, \u001b[38;5;34m15\u001b[0m, \u001b[38;5;34m64\u001b[0m)           │          \u001b[38;5;34m18,496\u001b[0m │\n",
       "├──────────────────────────────────────┼─────────────────────────────┼─────────────────┤\n",
       "│ max_pooling2d_73 (\u001b[38;5;33mMaxPooling2D\u001b[0m)      │ (\u001b[38;5;45mNone\u001b[0m, \u001b[38;5;34m3\u001b[0m, \u001b[38;5;34m8\u001b[0m, \u001b[38;5;34m64\u001b[0m)            │               \u001b[38;5;34m0\u001b[0m │\n",
       "├──────────────────────────────────────┼─────────────────────────────┼─────────────────┤\n",
       "│ dropout_150 (\u001b[38;5;33mDropout\u001b[0m)                │ (\u001b[38;5;45mNone\u001b[0m, \u001b[38;5;34m3\u001b[0m, \u001b[38;5;34m8\u001b[0m, \u001b[38;5;34m64\u001b[0m)            │               \u001b[38;5;34m0\u001b[0m │\n",
       "├──────────────────────────────────────┼─────────────────────────────┼─────────────────┤\n",
       "│ conv2d_76 (\u001b[38;5;33mConv2D\u001b[0m)                   │ (\u001b[38;5;45mNone\u001b[0m, \u001b[38;5;34m3\u001b[0m, \u001b[38;5;34m8\u001b[0m, \u001b[38;5;34m128\u001b[0m)           │          \u001b[38;5;34m73,856\u001b[0m │\n",
       "├──────────────────────────────────────┼─────────────────────────────┼─────────────────┤\n",
       "│ max_pooling2d_74 (\u001b[38;5;33mMaxPooling2D\u001b[0m)      │ (\u001b[38;5;45mNone\u001b[0m, \u001b[38;5;34m2\u001b[0m, \u001b[38;5;34m4\u001b[0m, \u001b[38;5;34m128\u001b[0m)           │               \u001b[38;5;34m0\u001b[0m │\n",
       "├──────────────────────────────────────┼─────────────────────────────┼─────────────────┤\n",
       "│ dropout_151 (\u001b[38;5;33mDropout\u001b[0m)                │ (\u001b[38;5;45mNone\u001b[0m, \u001b[38;5;34m2\u001b[0m, \u001b[38;5;34m4\u001b[0m, \u001b[38;5;34m128\u001b[0m)           │               \u001b[38;5;34m0\u001b[0m │\n",
       "├──────────────────────────────────────┼─────────────────────────────┼─────────────────┤\n",
       "│ conv2d_77 (\u001b[38;5;33mConv2D\u001b[0m)                   │ (\u001b[38;5;45mNone\u001b[0m, \u001b[38;5;34m2\u001b[0m, \u001b[38;5;34m4\u001b[0m, \u001b[38;5;34m256\u001b[0m)           │         \u001b[38;5;34m295,168\u001b[0m │\n",
       "├──────────────────────────────────────┼─────────────────────────────┼─────────────────┤\n",
       "│ max_pooling2d_75 (\u001b[38;5;33mMaxPooling2D\u001b[0m)      │ (\u001b[38;5;45mNone\u001b[0m, \u001b[38;5;34m1\u001b[0m, \u001b[38;5;34m2\u001b[0m, \u001b[38;5;34m256\u001b[0m)           │               \u001b[38;5;34m0\u001b[0m │\n",
       "├──────────────────────────────────────┼─────────────────────────────┼─────────────────┤\n",
       "│ dropout_152 (\u001b[38;5;33mDropout\u001b[0m)                │ (\u001b[38;5;45mNone\u001b[0m, \u001b[38;5;34m1\u001b[0m, \u001b[38;5;34m2\u001b[0m, \u001b[38;5;34m256\u001b[0m)           │               \u001b[38;5;34m0\u001b[0m │\n",
       "├──────────────────────────────────────┼─────────────────────────────┼─────────────────┤\n",
       "│ conv2d_78 (\u001b[38;5;33mConv2D\u001b[0m)                   │ (\u001b[38;5;45mNone\u001b[0m, \u001b[38;5;34m1\u001b[0m, \u001b[38;5;34m2\u001b[0m, \u001b[38;5;34m512\u001b[0m)           │       \u001b[38;5;34m1,180,160\u001b[0m │\n",
       "├──────────────────────────────────────┼─────────────────────────────┼─────────────────┤\n",
       "│ max_pooling2d_76 (\u001b[38;5;33mMaxPooling2D\u001b[0m)      │ (\u001b[38;5;45mNone\u001b[0m, \u001b[38;5;34m1\u001b[0m, \u001b[38;5;34m1\u001b[0m, \u001b[38;5;34m512\u001b[0m)           │               \u001b[38;5;34m0\u001b[0m │\n",
       "├──────────────────────────────────────┼─────────────────────────────┼─────────────────┤\n",
       "│ dropout_153 (\u001b[38;5;33mDropout\u001b[0m)                │ (\u001b[38;5;45mNone\u001b[0m, \u001b[38;5;34m1\u001b[0m, \u001b[38;5;34m1\u001b[0m, \u001b[38;5;34m512\u001b[0m)           │               \u001b[38;5;34m0\u001b[0m │\n",
       "├──────────────────────────────────────┼─────────────────────────────┼─────────────────┤\n",
       "│ flatten_34 (\u001b[38;5;33mFlatten\u001b[0m)                 │ (\u001b[38;5;45mNone\u001b[0m, \u001b[38;5;34m512\u001b[0m)                 │               \u001b[38;5;34m0\u001b[0m │\n",
       "├──────────────────────────────────────┼─────────────────────────────┼─────────────────┤\n",
       "│ dense_127 (\u001b[38;5;33mDense\u001b[0m)                    │ (\u001b[38;5;45mNone\u001b[0m, \u001b[38;5;34m128\u001b[0m)                 │          \u001b[38;5;34m65,664\u001b[0m │\n",
       "├──────────────────────────────────────┼─────────────────────────────┼─────────────────┤\n",
       "│ batch_normalization_66               │ (\u001b[38;5;45mNone\u001b[0m, \u001b[38;5;34m128\u001b[0m)                 │             \u001b[38;5;34m512\u001b[0m │\n",
       "│ (\u001b[38;5;33mBatchNormalization\u001b[0m)                 │                             │                 │\n",
       "├──────────────────────────────────────┼─────────────────────────────┼─────────────────┤\n",
       "│ dropout_154 (\u001b[38;5;33mDropout\u001b[0m)                │ (\u001b[38;5;45mNone\u001b[0m, \u001b[38;5;34m128\u001b[0m)                 │               \u001b[38;5;34m0\u001b[0m │\n",
       "├──────────────────────────────────────┼─────────────────────────────┼─────────────────┤\n",
       "│ dense_128 (\u001b[38;5;33mDense\u001b[0m)                    │ (\u001b[38;5;45mNone\u001b[0m, \u001b[38;5;34m7\u001b[0m)                   │             \u001b[38;5;34m903\u001b[0m │\n",
       "└──────────────────────────────────────┴─────────────────────────────┴─────────────────┘\n"
      ]
     },
     "metadata": {},
     "output_type": "display_data"
    },
    {
     "data": {
      "text/html": [
       "<pre style=\"white-space:pre;overflow-x:auto;line-height:normal;font-family:Menlo,'DejaVu Sans Mono',consolas,'Courier New',monospace\"><span style=\"font-weight: bold\"> Total params: </span><span style=\"color: #00af00; text-decoration-color: #00af00\">1,640,647</span> (6.26 MB)\n",
       "</pre>\n"
      ],
      "text/plain": [
       "\u001b[1m Total params: \u001b[0m\u001b[38;5;34m1,640,647\u001b[0m (6.26 MB)\n"
      ]
     },
     "metadata": {},
     "output_type": "display_data"
    },
    {
     "data": {
      "text/html": [
       "<pre style=\"white-space:pre;overflow-x:auto;line-height:normal;font-family:Menlo,'DejaVu Sans Mono',consolas,'Courier New',monospace\"><span style=\"font-weight: bold\"> Trainable params: </span><span style=\"color: #00af00; text-decoration-color: #00af00\">1,640,391</span> (6.26 MB)\n",
       "</pre>\n"
      ],
      "text/plain": [
       "\u001b[1m Trainable params: \u001b[0m\u001b[38;5;34m1,640,391\u001b[0m (6.26 MB)\n"
      ]
     },
     "metadata": {},
     "output_type": "display_data"
    },
    {
     "data": {
      "text/html": [
       "<pre style=\"white-space:pre;overflow-x:auto;line-height:normal;font-family:Menlo,'DejaVu Sans Mono',consolas,'Courier New',monospace\"><span style=\"font-weight: bold\"> Non-trainable params: </span><span style=\"color: #00af00; text-decoration-color: #00af00\">256</span> (1.00 KB)\n",
       "</pre>\n"
      ],
      "text/plain": [
       "\u001b[1m Non-trainable params: \u001b[0m\u001b[38;5;34m256\u001b[0m (1.00 KB)\n"
      ]
     },
     "metadata": {},
     "output_type": "display_data"
    }
   ],
   "source": [
    "from tensorflow.keras.models import Sequential\n",
    "from tensorflow.keras.layers import Conv2D, MaxPooling2D, BatchNormalization, Dropout, Flatten, Dense\n",
    "from tensorflow.keras.optimizers import Adam\n",
    "from tensorflow.keras.metrics import AUC\n",
    "\n",
    "model = Sequential()\n",
    "\n",
    "model.add(Conv2D(8, (3, 3), activation = 'relu', padding = 'same', input_shape = (40,120,1)))\n",
    "model.add(MaxPooling2D(pool_size = (2, 2)))\n",
    "model.add(Dropout(0.2))\n",
    "\n",
    "model.add(Conv2D(16, (3, 3), activation = 'relu', padding = 'same'))\n",
    "model.add(MaxPooling2D(pool_size = (2, 2),padding='same'))\n",
    "model.add(Dropout(0.2))\n",
    "\n",
    "model.add(Conv2D(32, (3, 3), activation = 'relu', padding = 'same'))\n",
    "model.add(MaxPooling2D(pool_size = (2, 2),padding='same'))\n",
    "model.add(Dropout(0.2))\n",
    "\n",
    "model.add(Conv2D(64, (3, 3), activation = 'relu', padding = 'same'))\n",
    "model.add(MaxPooling2D(pool_size = (2, 2),padding='same'))\n",
    "model.add(Dropout(0.2))\n",
    "\n",
    "model.add(Conv2D(128, (3, 3), activation = 'relu', padding = 'same'))\n",
    "model.add(MaxPooling2D(pool_size = (2, 2),padding='same'))\n",
    "model.add(Dropout(0.2))\n",
    "\n",
    "model.add(Conv2D(256, (3, 3), activation = 'relu', padding = 'same'))\n",
    "model.add(MaxPooling2D(pool_size = (2, 2),padding='same'))\n",
    "model.add(Dropout(0.2))\n",
    "\n",
    "\n",
    "model.add(Conv2D(512, (3, 3), activation = 'relu', padding = 'same'))\n",
    "model.add(MaxPooling2D(pool_size = (2, 2),padding='same'))\n",
    "model.add(Dropout(0.2))\n",
    "\n",
    "model.add(Flatten())\n",
    "model.add(Dense(128, activation = 'relu'))\n",
    "model.add(BatchNormalization())\n",
    "model.add(Dropout(0.2))\n",
    "model.add(Dense(7, activation = 'softmax'))\n",
    "model.summary()"
   ]
  },
  {
   "cell_type": "code",
   "execution_count": 452,
   "id": "9bc658ab-e685-41ef-ac36-b0b018930cd6",
   "metadata": {},
   "outputs": [
    {
     "name": "stdout",
     "output_type": "stream",
     "text": [
      "(10235, 40, 120, 1)\n",
      "(10235, 7)\n",
      "(2563, 40, 120, 1)\n",
      "(2563, 7)\n"
     ]
    }
   ],
   "source": [
    "print(train_values.shape)  # Should be (num_train_samples, 40, 180, 1)\n",
    "print(train_binary.shape)  # Should be (num_train_samples, 7) if using one-hot encoding\n",
    "print(test_values.shape)   # Should be (num_test_samples, 40, 180, 1)\n",
    "print(test_binary.shape)   # Should be (num_test_samples, 7) if using one-hot encoding\n"
   ]
  },
  {
   "cell_type": "code",
   "execution_count": 453,
   "id": "a441ec04-540b-4b94-8882-7dc920854289",
   "metadata": {},
   "outputs": [],
   "source": [
    "optimizer = Adam(learning_rate = 0.0005, beta_1 = 0.9, beta_2 = 0.999)\n",
    "early_stop = EarlyStopping(monitor='val_accuracy', patience=3, restore_best_weights=True, verbose=1)\n",
    "model.compile(loss = 'categorical_crossentropy', optimizer = optimizer, metrics = ['accuracy'])"
   ]
  },
  {
   "cell_type": "code",
   "execution_count": 454,
   "id": "345e3b66-7b93-47ca-a69a-af9ad13a32bf",
   "metadata": {},
   "outputs": [
    {
     "name": "stdout",
     "output_type": "stream",
     "text": [
      "Epoch 1/100\n",
      "\u001b[1m320/320\u001b[0m \u001b[32m━━━━━━━━━━━━━━━━━━━━\u001b[0m\u001b[37m\u001b[0m \u001b[1m33s\u001b[0m 94ms/step - accuracy: 0.1810 - loss: 2.0785 - val_accuracy: 0.1693 - val_loss: 1.9047\n",
      "Epoch 2/100\n",
      "\u001b[1m320/320\u001b[0m \u001b[32m━━━━━━━━━━━━━━━━━━━━\u001b[0m\u001b[37m\u001b[0m \u001b[1m43s\u001b[0m 99ms/step - accuracy: 0.2824 - loss: 1.7522 - val_accuracy: 0.1791 - val_loss: 1.9820\n",
      "Epoch 3/100\n",
      "\u001b[1m320/320\u001b[0m \u001b[32m━━━━━━━━━━━━━━━━━━━━\u001b[0m\u001b[37m\u001b[0m \u001b[1m32s\u001b[0m 101ms/step - accuracy: 0.3415 - loss: 1.6371 - val_accuracy: 0.2099 - val_loss: 1.7333\n",
      "Epoch 4/100\n",
      "\u001b[1m320/320\u001b[0m \u001b[32m━━━━━━━━━━━━━━━━━━━━\u001b[0m\u001b[37m\u001b[0m \u001b[1m33s\u001b[0m 103ms/step - accuracy: 0.3747 - loss: 1.5577 - val_accuracy: 0.2372 - val_loss: 1.6719\n",
      "Epoch 5/100\n",
      "\u001b[1m320/320\u001b[0m \u001b[32m━━━━━━━━━━━━━━━━━━━━\u001b[0m\u001b[37m\u001b[0m \u001b[1m33s\u001b[0m 102ms/step - accuracy: 0.3982 - loss: 1.5006 - val_accuracy: 0.3691 - val_loss: 1.6398\n",
      "Epoch 6/100\n",
      "\u001b[1m320/320\u001b[0m \u001b[32m━━━━━━━━━━━━━━━━━━━━\u001b[0m\u001b[37m\u001b[0m \u001b[1m32s\u001b[0m 100ms/step - accuracy: 0.4062 - loss: 1.4818 - val_accuracy: 0.3512 - val_loss: 1.6413\n",
      "Epoch 7/100\n",
      "\u001b[1m320/320\u001b[0m \u001b[32m━━━━━━━━━━━━━━━━━━━━\u001b[0m\u001b[37m\u001b[0m \u001b[1m32s\u001b[0m 100ms/step - accuracy: 0.4276 - loss: 1.4465 - val_accuracy: 0.3808 - val_loss: 1.7024\n",
      "Epoch 8/100\n",
      "\u001b[1m320/320\u001b[0m \u001b[32m━━━━━━━━━━━━━━━━━━━━\u001b[0m\u001b[37m\u001b[0m \u001b[1m32s\u001b[0m 99ms/step - accuracy: 0.4425 - loss: 1.4397 - val_accuracy: 0.4093 - val_loss: 1.6934\n",
      "Epoch 9/100\n",
      "\u001b[1m320/320\u001b[0m \u001b[32m━━━━━━━━━━━━━━━━━━━━\u001b[0m\u001b[37m\u001b[0m \u001b[1m33s\u001b[0m 103ms/step - accuracy: 0.4305 - loss: 1.4340 - val_accuracy: 0.3855 - val_loss: 1.7937\n",
      "Epoch 10/100\n",
      "\u001b[1m320/320\u001b[0m \u001b[32m━━━━━━━━━━━━━━━━━━━━\u001b[0m\u001b[37m\u001b[0m \u001b[1m33s\u001b[0m 103ms/step - accuracy: 0.4491 - loss: 1.4012 - val_accuracy: 0.4584 - val_loss: 1.4135\n",
      "Epoch 11/100\n",
      "\u001b[1m320/320\u001b[0m \u001b[32m━━━━━━━━━━━━━━━━━━━━\u001b[0m\u001b[37m\u001b[0m \u001b[1m32s\u001b[0m 99ms/step - accuracy: 0.4640 - loss: 1.3694 - val_accuracy: 0.3742 - val_loss: 1.6348\n",
      "Epoch 12/100\n",
      "\u001b[1m320/320\u001b[0m \u001b[32m━━━━━━━━━━━━━━━━━━━━\u001b[0m\u001b[37m\u001b[0m \u001b[1m34s\u001b[0m 107ms/step - accuracy: 0.4700 - loss: 1.3480 - val_accuracy: 0.3512 - val_loss: 1.7388\n",
      "Epoch 13/100\n",
      "\u001b[1m320/320\u001b[0m \u001b[32m━━━━━━━━━━━━━━━━━━━━\u001b[0m\u001b[37m\u001b[0m \u001b[1m41s\u001b[0m 127ms/step - accuracy: 0.4706 - loss: 1.3424 - val_accuracy: 0.3707 - val_loss: 1.7373\n",
      "Epoch 13: early stopping\n",
      "Restoring model weights from the end of the best epoch: 10.\n"
     ]
    },
    {
     "data": {
      "text/plain": [
       "<keras.src.callbacks.history.History at 0x23986f3bd10>"
      ]
     },
     "execution_count": 454,
     "metadata": {},
     "output_type": "execute_result"
    }
   ],
   "source": [
    "model.fit(train_values, train_binary,\n",
    "          epochs=100,\n",
    "          batch_size=32,\n",
    "          validation_data=(test_values, test_binary),\n",
    "          callbacks=[early_stop])"
   ]
  },
  {
   "cell_type": "code",
   "execution_count": 455,
   "id": "7047d885-981d-4f86-9c6b-48ce2aa9598c",
   "metadata": {},
   "outputs": [],
   "source": [
    "model.save('saved_model.keras')"
   ]
  },
  {
   "cell_type": "code",
   "execution_count": null,
   "id": "d85dfe04-114d-49e4-bd34-24569d97ec3f",
   "metadata": {},
   "outputs": [],
   "source": []
  }
 ],
 "metadata": {
  "kernelspec": {
   "display_name": "Python 3 (ipykernel)",
   "language": "python",
   "name": "python3"
  },
  "language_info": {
   "codemirror_mode": {
    "name": "ipython",
    "version": 3
   },
   "file_extension": ".py",
   "mimetype": "text/x-python",
   "name": "python",
   "nbconvert_exporter": "python",
   "pygments_lexer": "ipython3",
   "version": "3.12.8"
  }
 },
 "nbformat": 4,
 "nbformat_minor": 5
}
